{
  "nbformat": 4,
  "nbformat_minor": 0,
  "metadata": {
    "colab": {
      "name": "Classification_binaire_avec_un_perceptron_simple.ipynb",
      "provenance": [],
      "authorship_tag": "ABX9TyNBxdS9Pc/kC8eLosMM72Kn",
      "include_colab_link": true
    },
    "kernelspec": {
      "display_name": "Python 3",
      "name": "python3"
    },
    "language_info": {
      "name": "python"
    }
  },
  "cells": [
    {
      "cell_type": "markdown",
      "metadata": {
        "id": "view-in-github",
        "colab_type": "text"
      },
      "source": [
        "<a href=\"https://colab.research.google.com/github/wissal488/ENSIAS/blob/main/Classification_binaire_avec_un_perceptron_simple.ipynb\" target=\"_parent\"><img src=\"https://colab.research.google.com/assets/colab-badge.svg\" alt=\"Open In Colab\"/></a>"
      ]
    },
    {
      "cell_type": "markdown",
      "metadata": {
        "id": "B6_HymBuI60e"
      },
      "source": [
        "<span align=\"right\">**Réalisé par : Ajbabdi Wissal**</span>"
      ]
    },
    {
      "cell_type": "markdown",
      "metadata": {
        "id": "FDDzic4WIqnh"
      },
      "source": [
        "#**TP Perceptron Simple**"
      ]
    },
    {
      "cell_type": "markdown",
      "metadata": {
        "id": "IqCGV4UxcRYH"
      },
      "source": [
        "##**1.Créer une base de données**\n",
        "\n"
      ]
    },
    {
      "cell_type": "code",
      "metadata": {
        "id": "CaZeaW_Nb_59"
      },
      "source": [
        "import numpy as np\n",
        "import matplotlib.pyplot as plt\n",
        "from sklearn.datasets import make_blobs"
      ],
      "execution_count": 35,
      "outputs": []
    },
    {
      "cell_type": "code",
      "metadata": {
        "colab": {
          "base_uri": "https://localhost:8080/"
        },
        "id": "DiDuxg3Bcpvn",
        "outputId": "e2c85ada-2a83-4db0-fa61-1707f53e5a41"
      },
      "source": [
        "x,y=make_blobs(n_samples=150, n_features=2, centers=2)\n",
        "print(np.shape(x),np.shape(y))"
      ],
      "execution_count": 36,
      "outputs": [
        {
          "output_type": "stream",
          "name": "stdout",
          "text": [
            "(150, 2) (150,)\n"
          ]
        }
      ]
    },
    {
      "cell_type": "code",
      "metadata": {
        "colab": {
          "base_uri": "https://localhost:8080/"
        },
        "id": "bJeJ6GTCdOJP",
        "outputId": "97f0f04b-96e9-48c8-bcd3-f17e08bd721e"
      },
      "source": [
        "y=y.reshape(len(y),1)\n",
        "print(np.shape(y))"
      ],
      "execution_count": 37,
      "outputs": [
        {
          "output_type": "stream",
          "name": "stdout",
          "text": [
            "(150, 1)\n"
          ]
        }
      ]
    },
    {
      "cell_type": "code",
      "metadata": {
        "id": "kC5RwFf1dqBE"
      },
      "source": [
        "y "
      ],
      "execution_count": null,
      "outputs": []
    },
    {
      "cell_type": "code",
      "metadata": {
        "colab": {
          "base_uri": "https://localhost:8080/"
        },
        "id": "mt2SYP2W12jj",
        "outputId": "94b10cac-cfd7-45bd-db23-131acbf57516"
      },
      "source": [
        "print(x[1],y[1])"
      ],
      "execution_count": 38,
      "outputs": [
        {
          "output_type": "stream",
          "name": "stdout",
          "text": [
            "[-8.78493153 -0.24594144] [1]\n"
          ]
        }
      ]
    },
    {
      "cell_type": "markdown",
      "metadata": {
        "id": "A_b0gfO-1-x8"
      },
      "source": [
        "##**2.Visualisation de la BD**"
      ]
    },
    {
      "cell_type": "code",
      "metadata": {
        "colab": {
          "base_uri": "https://localhost:8080/",
          "height": 283
        },
        "id": "Fs18ALVD18b8",
        "outputId": "b00e9a13-5844-4f2e-e1a0-0400aa76fc90"
      },
      "source": [
        "plt.scatter(x[:,0],x[:,1],c=y,cmap=\"bwr\")"
      ],
      "execution_count": 39,
      "outputs": [
        {
          "output_type": "execute_result",
          "data": {
            "text/plain": [
              "<matplotlib.collections.PathCollection at 0x7f6e21bd3fd0>"
            ]
          },
          "metadata": {},
          "execution_count": 39
        },
        {
          "output_type": "display_data",
          "data": {
            "image/png": "[encoded data removed]",
            "text/plain": [
              "<Figure size 432x288 with 1 Axes>"
            ]
          },
          "metadata": {
            "needs_background": "light"
          }
        }
      ]
    },
    {
      "cell_type": "markdown",
      "metadata": {
        "id": "N8-HkpM82e3K"
      },
      "source": [
        "##**3.Modèle : perceptron simple**"
      ]
    },
    {
      "cell_type": "code",
      "metadata": {
        "id": "ls5sf49r2X-z"
      },
      "source": [
        "def agregation(x,W,w0):\n",
        "  return w0+x.dot(W)\n",
        "\n",
        "def activation(z):\n",
        "  return 1/(1+np.exp(-z))\n",
        "\n",
        "def perceptron_simple(x,W,b):\n",
        "  z=agregation(x,W,b)\n",
        "  a=activation(z)\n",
        "  return a    "
      ],
      "execution_count": 40,
      "outputs": []
    },
    {
      "cell_type": "code",
      "metadata": {
        "id": "9uAYXuXM3KJq"
      },
      "source": [
        "def initialisation():\n",
        "  W=np.random.rand(np.shape(x)[1],1)\n",
        "  w0=np.random.rand(1)\n",
        "  return W,w0"
      ],
      "execution_count": 41,
      "outputs": []
    },
    {
      "cell_type": "code",
      "metadata": {
        "colab": {
          "base_uri": "https://localhost:8080/"
        },
        "id": "nZ88xyMU3gmh",
        "outputId": "1e3efb03-683b-414c-b190-783842956381"
      },
      "source": [
        "\n",
        "W,w0 = initialisation()\n",
        "print(W,w0)"
      ],
      "execution_count": 44,
      "outputs": [
        {
          "output_type": "stream",
          "name": "stdout",
          "text": [
            "[[0.1416121 ]\n",
            " [0.95999778]] [0.06859604]\n"
          ]
        }
      ]
    },
    {
      "cell_type": "code",
      "metadata": {
        "colab": {
          "base_uri": "https://localhost:8080/",
          "height": 283
        },
        "id": "msWoP4j23uLx",
        "outputId": "2e606e5c-e4c7-491b-9dff-306840740945"
      },
      "source": [
        "y_pred =perceptron_simple(x,W,w0)\n",
        "plt.scatter(x[:,0],x[:,1],c=y_pred,cmap=\"bwr\")"
      ],
      "execution_count": 45,
      "outputs": [
        {
          "output_type": "execute_result",
          "data": {
            "text/plain": [
              "<matplotlib.collections.PathCollection at 0x7f6e21ac3310>"
            ]
          },
          "metadata": {},
          "execution_count": 45
        },
        {
          "output_type": "display_data",
          "data": {
            "image/png": "[encoded data removed]",
            "text/plain": [
              "<Figure size 432x288 with 1 Axes>"
            ]
          },
          "metadata": {
            "needs_background": "light"
          }
        }
      ]
    },
    {
      "cell_type": "markdown",
      "metadata": {
        "id": "aZLbdZSD4XNC"
      },
      "source": [
        "##<font color='blue'>**Après la prediction**</font>"
      ]
    },
    {
      "cell_type": "code",
      "metadata": {
        "colab": {
          "base_uri": "https://localhost:8080/"
        },
        "id": "PCK2TCJi4JL8",
        "outputId": "a14c2ce7-f3fd-4971-bd8c-ee495cedab57"
      },
      "source": [
        "def initialisation():\n",
        "  W=np.random.rand(np.shape(x)[1],1)\n",
        "  w0=np.random.rand(1)\n",
        "  return W,w0\n",
        "  \n",
        "def predict(x,W,w0):\n",
        "  a=perceptron_simple(x,W,w0)\n",
        "  return a>=0.5\n",
        "  \n",
        "W,w0 = initialisation()\n",
        "print(W,w0)"
      ],
      "execution_count": 46,
      "outputs": [
        {
          "output_type": "stream",
          "name": "stdout",
          "text": [
            "[[0.61836913]\n",
            " [0.24559414]] [0.52335245]\n"
          ]
        }
      ]
    },
    {
      "cell_type": "code",
      "metadata": {
        "colab": {
          "base_uri": "https://localhost:8080/",
          "height": 283
        },
        "id": "MqvYX9NB64k4",
        "outputId": "0734ea72-f477-44d7-c2ca-df15f767a538"
      },
      "source": [
        "y_pred =predict(x,W,w0)\n",
        "plt.scatter(x[:,0],x[:,1],c=y_pred,cmap=\"bwr\")"
      ],
      "execution_count": 47,
      "outputs": [
        {
          "output_type": "execute_result",
          "data": {
            "text/plain": [
              "<matplotlib.collections.PathCollection at 0x7f6e21a39410>"
            ]
          },
          "metadata": {},
          "execution_count": 47
        },
        {
          "output_type": "display_data",
          "data": {
            "image/png": "[encoded data removed]",
            "text/plain": [
              "<Figure size 432x288 with 1 Axes>"
            ]
          },
          "metadata": {
            "needs_background": "light"
          }
        }
      ]
    },
    {
      "cell_type": "code",
      "metadata": {
        "colab": {
          "base_uri": "https://localhost:8080/",
          "height": 283
        },
        "id": "BkLYaa6Z65yp",
        "outputId": "abee588b-2a02-4e4b-bdc2-52c229a86da3"
      },
      "source": [
        "\n",
        "x2=(-x[:,0]*W[0]-w0)/W[1]\n",
        "plt.scatter(x[:,0],x[:,1],c=y,cmap=\"bwr\")\n",
        "\n",
        "plt.plot(x[:,0],x2,c=\"green\")\n",
        "#plt.xlim(x[:,0].min(),x[:,0].max())\n",
        "#plt.ylim(x[:,1].min(),x[:,1].max())"
      ],
      "execution_count": 48,
      "outputs": [
        {
          "output_type": "execute_result",
          "data": {
            "text/plain": [
              "[<matplotlib.lines.Line2D at 0x7f6e219b9090>]"
            ]
          },
          "metadata": {},
          "execution_count": 48
        },
        {
          "output_type": "display_data",
          "data": {
            "image/png": "[encoded data removed]",
            "text/plain": [
              "<Figure size 432x288 with 1 Axes>"
            ]
          },
          "metadata": {
            "needs_background": "light"
          }
        }
      ]
    },
    {
      "cell_type": "code",
      "metadata": {
        "colab": {
          "base_uri": "https://localhost:8080/",
          "height": 283
        },
        "id": "K4pZv31BAGLi",
        "outputId": "121ccf66-7f8d-41a2-a1b9-829346581588"
      },
      "source": [
        "\n",
        "x2=(-x[:,0]*W[0]-w0)/W[1]\n",
        "plt.scatter(x[:,0],x[:,1],c=y,cmap=\"bwr\")\n",
        "\n",
        "plt.plot(x[:,0],x2,c=\"green\")\n",
        "plt.xlim(x[:,0].min()-2,x[:,0].max()+2)\n",
        "plt.ylim(x[:,1].min()-2,x[:,1].max()+2)"
      ],
      "execution_count": 69,
      "outputs": [
        {
          "output_type": "execute_result",
          "data": {
            "text/plain": [
              "(-5.890127015913681, 5.595390128833871)"
            ]
          },
          "metadata": {},
          "execution_count": 69
        },
        {
          "output_type": "display_data",
          "data": {
            "image/png": "[encoded data removed]",
            "text/plain": [
              "<Figure size 432x288 with 1 Axes>"
            ]
          },
          "metadata": {
            "needs_background": "light"
          }
        }
      ]
    },
    {
      "cell_type": "markdown",
      "metadata": {
        "id": "MiPflDG3EMgr"
      },
      "source": [
        "##**4.Fonction LogLoss**"
      ]
    },
    {
      "cell_type": "markdown",
      "metadata": {
        "id": "pSKs_euXF2w6"
      },
      "source": [
        "C'est une fonction qui permet de quantifier les erreurs effectuées par un modèle."
      ]
    },
    {
      "cell_type": "code",
      "metadata": {
        "colab": {
          "base_uri": "https://localhost:8080/"
        },
        "id": "MhP-7lvTEEkK",
        "outputId": "0f0a9670-b235-4f19-cc49-49c851e4de51"
      },
      "source": [
        "def fonction_LogLoss(y,x,W,w0):\n",
        "  y_pred=perceptron_simple(x,W,w0)\n",
        "  n=len(y)\n",
        "  return -(1/n)*np.sum(y*np.log(y_pred)+(1-y)*np.log(1-y_pred))\n",
        "\n",
        "print(\"l'erreur est:\",fonction_LogLoss(y,x,W,w0))"
      ],
      "execution_count": 52,
      "outputs": [
        {
          "output_type": "stream",
          "name": "stdout",
          "text": [
            "l'erreur est: 4.023343681871467\n"
          ]
        }
      ]
    },
    {
      "cell_type": "markdown",
      "metadata": {
        "id": "d0Fd6tgcFA3p"
      },
      "source": [
        "##**5.Apprentissage: Descente de gradient**"
      ]
    },
    {
      "cell_type": "markdown",
      "metadata": {
        "id": "DIVj2HTTFhrx"
      },
      "source": [
        "L'algorithme descente de graduit est une algorithme itérative qui permet à chaque fois d'ajuster le vecteur W et le biais."
      ]
    },
    {
      "cell_type": "code",
      "metadata": {
        "id": "G6tbskRiE2Va"
      },
      "source": [
        " def gradient(x,y,y_p):\n",
        "   dw0=(-1/len(y))*np.sum(y-y_p)\n",
        "   dW=(-1/len(y))*x.T.dot(y-y_p)\n",
        "   return dW,dw0\n",
        "\n",
        "def apprentissage(y,x,W,w0,learning_rate=0.001,nb_it=1000 ):\n",
        "  for i in range(nb_it):\n",
        "    dW,dw0=gradient(x,y,perceptron_simple(x,W,w0))\n",
        "    W=W-learning_rate*dW\n",
        "    w0=w0-learning_rate*dw0\n",
        "  return W,w0"
      ],
      "execution_count": 65,
      "outputs": []
    },
    {
      "cell_type": "code",
      "metadata": {
        "colab": {
          "base_uri": "https://localhost:8080/"
        },
        "id": "Mx5V6r1IG9RT",
        "outputId": "23195dba-8286-43f7-bd66-124e856c44b0"
      },
      "source": [
        "W_estim,w0_estim=apprentissage(y,x,W,w0,learning_rate=0.1,nb_it=1000)\n",
        "print(W_estim)"
      ],
      "execution_count": 66,
      "outputs": [
        {
          "output_type": "stream",
          "name": "stdout",
          "text": [
            "[[-1.26344797]\n",
            " [ 0.83984904]]\n"
          ]
        }
      ]
    },
    {
      "cell_type": "code",
      "metadata": {
        "colab": {
          "base_uri": "https://localhost:8080/"
        },
        "id": "lArX54TyHNCz",
        "outputId": "dd049202-f93d-4d18-cf2c-d32f325e65db"
      },
      "source": [
        "print(w0_estim)"
      ],
      "execution_count": 67,
      "outputs": [
        {
          "output_type": "stream",
          "name": "stdout",
          "text": [
            "[0.31815064]\n"
          ]
        }
      ]
    },
    {
      "cell_type": "code",
      "metadata": {
        "colab": {
          "base_uri": "https://localhost:8080/",
          "height": 283
        },
        "id": "Rpf1uM9XHPNi",
        "outputId": "f5fe6dcb-0163-4d1b-a543-c7c335bba50a"
      },
      "source": [
        "x2=(-x[:,0]*W_estim[0]-w0_estim)/W_estim[1]\n",
        "plt.scatter(x[:,0],x[:,1],c=y,cmap=\"bwr\")\n",
        "\n",
        "plt.plot(x[:,0],x2,c=\"green\")\n",
        "plt.xlim(x[:,0].min()-2,x[:,0].max()+2)\n",
        "plt.ylim(x[:,1].min()-2,x[:,1].max()+2)"
      ],
      "execution_count": 70,
      "outputs": [
        {
          "output_type": "execute_result",
          "data": {
            "text/plain": [
              "(-5.890127015913681, 5.595390128833871)"
            ]
          },
          "metadata": {},
          "execution_count": 70
        },
        {
          "output_type": "display_data",
          "data": {
            "image/png": "[encoded data removed]",
            "text/plain": [
              "<Figure size 432x288 with 1 Axes>"
            ]
          },
          "metadata": {
            "needs_background": "light"
          }
        }
      ]
    }
  ]
}